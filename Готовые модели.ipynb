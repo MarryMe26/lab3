{
 "cells": [
  {
   "cell_type": "markdown",
   "id": "3085ec43-34bb-4afb-9515-517e0489db3e",
   "metadata": {},
   "source": [
    "## Классические алгоритмы без ансамблирования\n",
    "В этом ноутбуке вам нужно обучить модели на датасете классификации из предыдущего ноутбука и сравнить результаты. Вам будет предоставлен baseline, на основе которого вы будете доделывать предсказывающие модели. Оценка лабы будет зависеть от ROC-AUC на тестовых данных по следующим критериям:\n",
    "\\\n",
    "AUC - на тестовых данных\n",
    "- $AUC \\leq 0.75$ - 0 баллов\n",
    "- $0.75 < AUC \\leq 0.76$ - 2 балла\n",
    "- $0.76 < AUC \\leq 0.77$ - 4 балла\n",
    "- $0.77 < AUC \\leq 0.78$ - 6 баллов\n",
    "- $0.78 < AUC \\leq 0.79$ - 8 баллов\n",
    "- $AUC > 0.79$ - 10 баллов\n",
    "\n",
    "\\\n",
    "В этой работе запрещено использовать ансамбли моделей (лес, бустинги и т.д.)!"
   ]
  },
  {
   "cell_type": "code",
   "id": "ec07e3a2-480a-4350-868e-02679ff2aada",
   "metadata": {
    "ExecuteTime": {
     "end_time": "2024-10-23T16:24:15.003514Z",
     "start_time": "2024-10-23T16:24:14.999211Z"
    }
   },
   "source": [
    "from sklearn.linear_model import LogisticRegression\n",
    "from sklearn.tree import DecisionTreeClassifier\n",
    "from sklearn.neighbors import KNeighborsClassifier\n",
    "\n",
    "from sklearn.metrics import roc_auc_score, precision_score, recall_score, roc_curve, accuracy_score\n",
    "\n",
    "from sklearn.model_selection import train_test_split\n",
    "\n",
    "import matplotlib.pyplot as plt\n",
    "import pandas as pd\n",
    "import numpy as np"
   ],
   "outputs": [],
   "execution_count": 147
  },
  {
   "cell_type": "code",
   "id": "563ad31b-5c83-4366-819a-34dad4edecdc",
   "metadata": {
    "ExecuteTime": {
     "end_time": "2024-10-23T16:24:15.026213Z",
     "start_time": "2024-10-23T16:24:15.012352Z"
    }
   },
   "source": [
    "data = pd.read_csv('german.csv', sep=';')\n",
    "print(data.head())\n",
    "\n",
    "X = data.iloc[:, 1:].to_numpy()\n",
    "y = data.iloc[:, 0].to_numpy()\n",
    "\n",
    "X_train, X_test, y_train, y_test = train_test_split(X, y, test_size=0.2, random_state=42)"
   ],
   "outputs": [
    {
     "name": "stdout",
     "output_type": "stream",
     "text": [
      "   Creditability  Account_Balance  Duration_of_Credit_monthly  \\\n",
      "0              1                1                          18   \n",
      "1              1                1                           9   \n",
      "2              1                2                          12   \n",
      "3              1                1                          12   \n",
      "4              1                1                          12   \n",
      "\n",
      "   Payment_Status_of_Previous_Credit  Purpose  Credit_Amount  \\\n",
      "0                                  4        2           1049   \n",
      "1                                  4        0           2799   \n",
      "2                                  2        9            841   \n",
      "3                                  4        0           2122   \n",
      "4                                  4        0           2171   \n",
      "\n",
      "   Value_Savings_Stocks  Length_of_current_employment  Instalment_per_cent  \\\n",
      "0                     1                             2                    4   \n",
      "1                     1                             3                    2   \n",
      "2                     2                             4                    2   \n",
      "3                     1                             3                    3   \n",
      "4                     1                             3                    4   \n",
      "\n",
      "   Sex_Marital_Status  ...  Duration_in_Current_address  \\\n",
      "0                   2  ...                            4   \n",
      "1                   3  ...                            2   \n",
      "2                   2  ...                            4   \n",
      "3                   3  ...                            2   \n",
      "4                   3  ...                            4   \n",
      "\n",
      "   Most_valuable_available_asset  Age_years  Concurrent_Credits  \\\n",
      "0                              2         21                   3   \n",
      "1                              1         36                   3   \n",
      "2                              1         23                   3   \n",
      "3                              1         39                   3   \n",
      "4                              2         38                   1   \n",
      "\n",
      "   Type_of_apartment  No_of_Credits_at_this_Bank  Occupation  \\\n",
      "0                  1                           1           3   \n",
      "1                  1                           2           3   \n",
      "2                  1                           1           2   \n",
      "3                  1                           2           2   \n",
      "4                  2                           2           2   \n",
      "\n",
      "   No_of_dependents  Telephone  Foreign_Worker  \n",
      "0                 1          1               1  \n",
      "1                 2          1               1  \n",
      "2                 1          1               1  \n",
      "3                 2          1               2  \n",
      "4                 1          1               2  \n",
      "\n",
      "[5 rows x 21 columns]\n"
     ]
    }
   ],
   "execution_count": 148
  },
  {
   "cell_type": "code",
   "id": "f93737ec-e5eb-4d72-8beb-5dba4d4c581f",
   "metadata": {
    "ExecuteTime": {
     "end_time": "2024-10-23T16:24:15.147174Z",
     "start_time": "2024-10-23T16:24:15.030951Z"
    }
   },
   "source": [
    "plt.hist(y_train, bins=2, edgecolor='k')\n",
    "plt.xticks([0, 1])\n",
    "plt.xlabel('Class (0: Non-Creditworthy, 1: Creditworthy)')\n",
    "plt.ylabel('Count')\n",
    "plt.title('Distribution of Classes in Training Data')\n",
    "plt.show()"
   ],
   "outputs": [
    {
     "data": {
      "text/plain": [
       "<Figure size 432x288 with 1 Axes>"
      ],
      "image/png": "[encoded data removed]"
     },
     "metadata": {
      "needs_background": "light"
     },
     "output_type": "display_data"
    }
   ],
   "execution_count": 149
  },
  {
   "cell_type": "code",
   "id": "1ccf0690-1d07-4026-85f2-674c5688d4d0",
   "metadata": {
    "ExecuteTime": {
     "end_time": "2024-10-23T16:24:15.519938Z",
     "start_time": "2024-10-23T16:24:15.148910Z"
    }
   },
   "source": [
    "# Создание модели Logistic Regression\n",
    "logistic_regression_model = LogisticRegression(solver='newton-cg')\n",
    "logistic_regression_model.fit(X_train, y_train)\n",
    "\n",
    "# Создание модели Decision Tree\n",
    "decision_tree_model = DecisionTreeClassifier(min_samples_split=90, min_samples_leaf=19)\n",
    "decision_tree_model.fit(X_train, y_train)\n",
    "\n",
    "# Создание модели K-Nearest Neighbors\n",
    "knn_model = KNeighborsClassifier(n_neighbors=25)\n",
    "knn_model.fit(X_train, y_train)"
   ],
   "outputs": [
    {
     "data": {
      "text/plain": [
       "KNeighborsClassifier(n_neighbors=25)"
      ]
     },
     "execution_count": 150,
     "metadata": {},
     "output_type": "execute_result"
    }
   ],
   "execution_count": 150
  },
  {
   "cell_type": "code",
   "id": "c2ebd8b0-3f81-4365-9f84-44bf50bbcbe4",
   "metadata": {
    "ExecuteTime": {
     "end_time": "2024-10-23T16:24:15.593625Z",
     "start_time": "2024-10-23T16:24:15.522260Z"
    }
   },
   "source": [
    "y_prob_logistic = logistic_regression_model.predict_proba(X_test)[:, 1]\n",
    "y_prob_decision_tree = decision_tree_model.predict_proba(X_test)[:, 1]\n",
    "y_prob_knn = knn_model.predict_proba(X_test)[:, 1]\n",
    "\n",
    "y_pred_logistic = logistic_regression_model.predict(X_test)\n",
    "y_pred_decision_tree = decision_tree_model.predict(X_test)\n",
    "y_pred_knn = knn_model.predict(X_test)\n",
    "\n",
    "accuracy_logistic = accuracy_score(y_test, y_pred_logistic)\n",
    "accuracy_decision_tree = accuracy_score(y_test, y_pred_decision_tree)\n",
    "accuracy_knn = accuracy_score(y_test, y_pred_knn)\n",
    "\n",
    "roc_auc_logistic = roc_auc_score(y_test, y_prob_logistic)\n",
    "roc_auc_decision_tree = roc_auc_score(y_test, y_prob_decision_tree)\n",
    "roc_auc_knn = roc_auc_score(y_test, y_prob_knn)\n",
    "\n",
    "precision_logistic = precision_score(y_test, y_pred_logistic)\n",
    "precision_decision_tree = precision_score(y_test, y_pred_decision_tree)\n",
    "precision_knn = precision_score(y_test, y_pred_knn)\n",
    "\n",
    "recall_logistic = recall_score(y_test, y_pred_logistic)\n",
    "recall_decision_tree = recall_score(y_test, y_pred_decision_tree)\n",
    "recall_knn = recall_score(y_test, y_pred_knn)\n",
    "\n",
    "print(f'Accuracy of Logistic Regression: {accuracy_logistic}')\n",
    "print(f'Accuracy of Decision Tree: {accuracy_decision_tree}')\n",
    "print(f'Accuracy of K-Nearest Neighbors: {accuracy_knn}')\n",
    "\n",
    "print(f'ROC AUC of Logistic Regression: {roc_auc_logistic}')\n",
    "print(f'ROC AUC of Decision Tree: {roc_auc_decision_tree}')\n",
    "print(f'ROC AUC of K-Nearest Neighbors: {roc_auc_knn}')\n",
    "\n",
    "print(f'Precision of Logistic Regression: {precision_logistic}')\n",
    "print(f'Precision of Decision Tree: {precision_decision_tree}')\n",
    "print(f'Precision of K-Nearest Neighbors: {precision_knn}')\n",
    "\n",
    "print(f'Recall of Logistic Regression: {recall_logistic}')\n",
    "print(f'Recall of Decision Tree: {recall_decision_tree}')\n",
    "print(f'Recall of K-Nearest Neighbors: {recall_knn}')"
   ],
   "outputs": [
    {
     "name": "stdout",
     "output_type": "stream",
     "text": [
      "Accuracy of Logistic Regression: 0.755\n",
      "Accuracy of Decision Tree: 0.775\n",
      "Accuracy of K-Nearest Neighbors: 0.705\n",
      "ROC AUC of Logistic Regression: 0.7926601215521272\n",
      "ROC AUC of Decision Tree: 0.8043478260869565\n",
      "ROC AUC of K-Nearest Neighbors: 0.6129032258064516\n",
      "Precision of Logistic Regression: 0.7834394904458599\n",
      "Precision of Decision Tree: 0.7818181818181819\n",
      "Precision of K-Nearest Neighbors: 0.7068062827225131\n",
      "Recall of Logistic Regression: 0.8913043478260869\n",
      "Recall of Decision Tree: 0.9347826086956522\n",
      "Recall of K-Nearest Neighbors: 0.9782608695652174\n"
     ]
    }
   ],
   "execution_count": 151
  },
  {
   "cell_type": "markdown",
   "id": "d2d6eb00-77fd-40dc-a3c5-35c1fe0200c0",
   "metadata": {},
   "source": [
    "## Экспериментируйте\n",
    "Для получения лучшего качества придется поэкспериментировать. Подсказка: попробуйте оптимизировать гиперпараметры модели"
   ]
  }
 ],
 "metadata": {
  "kernelspec": {
   "display_name": "Python 3 (ipykernel)",
   "language": "python",
   "name": "python3"
  },
  "language_info": {
   "codemirror_mode": {
    "name": "ipython",
    "version": 3
   },
   "file_extension": ".py",
   "mimetype": "text/x-python",
   "name": "python",
   "nbconvert_exporter": "python",
   "pygments_lexer": "ipython3",
   "version": "3.9.7"
  }
 },
 "nbformat": 4,
 "nbformat_minor": 5
}
